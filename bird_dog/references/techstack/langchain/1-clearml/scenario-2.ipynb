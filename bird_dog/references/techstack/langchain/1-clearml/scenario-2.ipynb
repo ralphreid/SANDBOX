{
 "cells": [
  {
   "cell_type": "code",
   "execution_count": 2,
   "metadata": {},
   "outputs": [
    {
     "name": "stdout",
     "output_type": "stream",
     "text": [
      "All environment variables are available.\n"
     ]
    }
   ],
   "source": [
    "import os\n",
    "\n",
    "CLEARML_API_ACCESS_KEY = os.getenv(\"CLEARML_API_ACCESS_KEY\")\n",
    "CLEARML_API_SECRET_KEY = os.getenv(\"CLEARML_API_SECRET_KEY\")\n",
    "OPENAI_API_KEY = os.getenv(\"OPENAI_API_KEY\")\n",
    "SERPAPI_API_KEY = os.getenv(\"SERPAPI_API_KEY\")\n",
    "\n",
    "missing_vars = []\n",
    "if not CLEARML_API_ACCESS_KEY:\n",
    "  missing_vars.append(\"CLEARML_API_ACCESS_KEY\")\n",
    "if not CLEARML_API_SECRET_KEY:\n",
    "  missing_vars.append(\"CLEARML_API_SECRET_KEY\")\n",
    "if not OPENAI_API_KEY:\n",
    "  missing_vars.append(\"OPENAI_API_KEY\")\n",
    "if not SERPAPI_API_KEY:\n",
    "  missing_vars.append(\"SERPAPI_API_KEY\")\n",
    "\n",
    "if missing_vars:\n",
    "  print(f\"The following environment variables are missing: {', '.join(missing_vars)}\")\n",
    "else:\n",
    "  print(\"All environment variables are available.\")\n"
   ]
  },
  {
   "cell_type": "markdown",
   "metadata": {},
   "source": [
    "\n",
    "Scenario 2: Creating an agent with tools\n",
    "\n",
    "To show a more advanced workflow, let's create an agent with access to tools. The way ClearML tracks the results is not different though, only the table will look slightly different as there are other types of actions taken when compared to the earlier, simpler example.\n",
    "\n",
    "You can now also see the use of the finish=True keyword, which will fully close the ClearML Task, instead of just resetting the parameters and prompts for a new conversation."
   ]
  },
  {
   "cell_type": "code",
   "execution_count": 3,
   "metadata": {},
   "outputs": [
    {
     "name": "stdout",
     "output_type": "stream",
     "text": [
      "ClearML Task: created new task id=81e6fadad4e04e0d80ec0db0f51f9656\n",
      "2023-09-16 23:01:35,289 - clearml.Task - INFO - Storing jupyter notebook directly as code\n",
      "ClearML results page: https://app.clear.ml/projects/af7507b5860447cd89ecf7d1ae3166c8/experiments/81e6fadad4e04e0d80ec0db0f51f9656/output/log\n",
      "The clearml callback is currently in beta and is subject to change based on updates to `langchain`. Please report any issues to https://github.com/allegroai/clearml/issues with the tag `langchain`.\n"
     ]
    }
   ],
   "source": [
    "from langchain.callbacks import ClearMLCallbackHandler\n",
    "\n",
    "from datetime import datetime\n",
    "from langchain.callbacks import StdOutCallbackHandler\n",
    "from langchain.llms import OpenAI\n",
    "\n",
    "# Setup and use the ClearML Callback\n",
    "clearml_callback = ClearMLCallbackHandler(\n",
    "    task_type=\"inference\",\n",
    "    project_name=\"langchain_callback_demo\",\n",
    "    task_name=\"llm\",\n",
    "    tags=[\"test\"],\n",
    "    # Change the following parameters based on the amount of detail you want tracked\n",
    "    visualize=True,\n",
    "    complexity_metrics=True,\n",
    "    stream_logs=True,\n",
    ")\n",
    "callbacks = [StdOutCallbackHandler(), clearml_callback]\n",
    "# Get the OpenAI model ready to go\n",
    "llm = OpenAI(temperature=0, callbacks=callbacks)"
   ]
  },
  {
   "cell_type": "markdown",
   "metadata": {},
   "source": [
    "https://api.python.langchain.com/en/latest/agents/langchain.agents.initialize.initialize_agent.html\n",
    "\n",
    "https://api.python.langchain.com/en/latest/agents/langchain.agents.load_tools.load_tools.html\n",
    "\n",
    "https://api.python.langchain.com/en/latest/agents/langchain.agents.agent_types.AgentType.html\n"
   ]
  },
  {
   "cell_type": "code",
   "execution_count": 4,
   "metadata": {},
   "outputs": [
    {
     "ename": "ValidationError",
     "evalue": "1 validation error for SerpAPIWrapper\n__root__\n  Could not import serpapi python package. Please install it with `pip install google-search-results`. (type=value_error)",
     "output_type": "error",
     "traceback": [
      "\u001b[0;31m---------------------------------------------------------------------------\u001b[0m",
      "\u001b[0;31mValidationError\u001b[0m                           Traceback (most recent call last)",
      "\u001b[1;32m/Users/jah/dev/me/capstone/docs/references/techstack/langchain/1-clearml/scenario-2.ipynb Cell 4\u001b[0m line \u001b[0;36m5\n\u001b[1;32m      <a href='vscode-notebook-cell:/Users/jah/dev/me/capstone/docs/references/techstack/langchain/1-clearml/scenario-2.ipynb#X12sZmlsZQ%3D%3D?line=1'>2</a>\u001b[0m \u001b[39mfrom\u001b[39;00m \u001b[39mlangchain\u001b[39;00m\u001b[39m.\u001b[39;00m\u001b[39magents\u001b[39;00m \u001b[39mimport\u001b[39;00m AgentType\n\u001b[1;32m      <a href='vscode-notebook-cell:/Users/jah/dev/me/capstone/docs/references/techstack/langchain/1-clearml/scenario-2.ipynb#X12sZmlsZQ%3D%3D?line=3'>4</a>\u001b[0m \u001b[39m# SCENARIO 2 - Agent with Tools\u001b[39;00m\n\u001b[0;32m----> <a href='vscode-notebook-cell:/Users/jah/dev/me/capstone/docs/references/techstack/langchain/1-clearml/scenario-2.ipynb#X12sZmlsZQ%3D%3D?line=4'>5</a>\u001b[0m tools \u001b[39m=\u001b[39m load_tools([\u001b[39m\"\u001b[39;49m\u001b[39mserpapi\u001b[39;49m\u001b[39m\"\u001b[39;49m, \u001b[39m\"\u001b[39;49m\u001b[39mllm-math\u001b[39;49m\u001b[39m\"\u001b[39;49m], llm\u001b[39m=\u001b[39;49mllm, callbacks\u001b[39m=\u001b[39;49mcallbacks)\n\u001b[1;32m      <a href='vscode-notebook-cell:/Users/jah/dev/me/capstone/docs/references/techstack/langchain/1-clearml/scenario-2.ipynb#X12sZmlsZQ%3D%3D?line=5'>6</a>\u001b[0m agent \u001b[39m=\u001b[39m initialize_agent(\n\u001b[1;32m      <a href='vscode-notebook-cell:/Users/jah/dev/me/capstone/docs/references/techstack/langchain/1-clearml/scenario-2.ipynb#X12sZmlsZQ%3D%3D?line=6'>7</a>\u001b[0m     tools,\n\u001b[1;32m      <a href='vscode-notebook-cell:/Users/jah/dev/me/capstone/docs/references/techstack/langchain/1-clearml/scenario-2.ipynb#X12sZmlsZQ%3D%3D?line=7'>8</a>\u001b[0m     llm,\n\u001b[1;32m      <a href='vscode-notebook-cell:/Users/jah/dev/me/capstone/docs/references/techstack/langchain/1-clearml/scenario-2.ipynb#X12sZmlsZQ%3D%3D?line=8'>9</a>\u001b[0m     agent\u001b[39m=\u001b[39mAgentType\u001b[39m.\u001b[39mZERO_SHOT_REACT_DESCRIPTION,\n\u001b[1;32m     <a href='vscode-notebook-cell:/Users/jah/dev/me/capstone/docs/references/techstack/langchain/1-clearml/scenario-2.ipynb#X12sZmlsZQ%3D%3D?line=9'>10</a>\u001b[0m     callbacks\u001b[39m=\u001b[39mcallbacks,\n\u001b[1;32m     <a href='vscode-notebook-cell:/Users/jah/dev/me/capstone/docs/references/techstack/langchain/1-clearml/scenario-2.ipynb#X12sZmlsZQ%3D%3D?line=10'>11</a>\u001b[0m )\n\u001b[1;32m     <a href='vscode-notebook-cell:/Users/jah/dev/me/capstone/docs/references/techstack/langchain/1-clearml/scenario-2.ipynb#X12sZmlsZQ%3D%3D?line=11'>12</a>\u001b[0m agent\u001b[39m.\u001b[39mrun(\u001b[39m\"\u001b[39m\u001b[39mWho is the wife of the person who sang summer of 69?\u001b[39m\u001b[39m\"\u001b[39m)\n",
      "File \u001b[0;32m~/.local/share/virtualenvs/capstone-wLAVGjDG/lib/python3.11/site-packages/langchain/agents/load_tools.py:472\u001b[0m, in \u001b[0;36mload_tools\u001b[0;34m(tool_names, llm, callbacks, **kwargs)\u001b[0m\n\u001b[1;32m    470\u001b[0m     _get_tool_func, extra_keys \u001b[39m=\u001b[39m _EXTRA_OPTIONAL_TOOLS[name]\n\u001b[1;32m    471\u001b[0m     sub_kwargs \u001b[39m=\u001b[39m {k: kwargs[k] \u001b[39mfor\u001b[39;00m k \u001b[39min\u001b[39;00m extra_keys \u001b[39mif\u001b[39;00m k \u001b[39min\u001b[39;00m kwargs}\n\u001b[0;32m--> 472\u001b[0m     tool \u001b[39m=\u001b[39m _get_tool_func(\u001b[39m*\u001b[39;49m\u001b[39m*\u001b[39;49msub_kwargs)\n\u001b[1;32m    473\u001b[0m     tools\u001b[39m.\u001b[39mappend(tool)\n\u001b[1;32m    474\u001b[0m \u001b[39melse\u001b[39;00m:\n",
      "File \u001b[0;32m~/.local/share/virtualenvs/capstone-wLAVGjDG/lib/python3.11/site-packages/langchain/agents/load_tools.py:221\u001b[0m, in \u001b[0;36m_get_serpapi\u001b[0;34m(**kwargs)\u001b[0m\n\u001b[1;32m    217\u001b[0m \u001b[39mdef\u001b[39;00m \u001b[39m_get_serpapi\u001b[39m(\u001b[39m*\u001b[39m\u001b[39m*\u001b[39mkwargs: Any) \u001b[39m-\u001b[39m\u001b[39m>\u001b[39m BaseTool:\n\u001b[1;32m    218\u001b[0m     \u001b[39mreturn\u001b[39;00m Tool(\n\u001b[1;32m    219\u001b[0m         name\u001b[39m=\u001b[39m\u001b[39m\"\u001b[39m\u001b[39mSearch\u001b[39m\u001b[39m\"\u001b[39m,\n\u001b[1;32m    220\u001b[0m         description\u001b[39m=\u001b[39m\u001b[39m\"\u001b[39m\u001b[39mA search engine. Useful for when you need to answer questions about current events. Input should be a search query.\u001b[39m\u001b[39m\"\u001b[39m,\n\u001b[0;32m--> 221\u001b[0m         func\u001b[39m=\u001b[39mSerpAPIWrapper(\u001b[39m*\u001b[39;49m\u001b[39m*\u001b[39;49mkwargs)\u001b[39m.\u001b[39mrun,\n\u001b[1;32m    222\u001b[0m         coroutine\u001b[39m=\u001b[39mSerpAPIWrapper(\u001b[39m*\u001b[39m\u001b[39m*\u001b[39mkwargs)\u001b[39m.\u001b[39marun,\n\u001b[1;32m    223\u001b[0m     )\n",
      "File \u001b[0;32m~/.local/share/virtualenvs/capstone-wLAVGjDG/lib/python3.11/site-packages/pydantic/v1/main.py:341\u001b[0m, in \u001b[0;36mBaseModel.__init__\u001b[0;34m(__pydantic_self__, **data)\u001b[0m\n\u001b[1;32m    339\u001b[0m values, fields_set, validation_error \u001b[39m=\u001b[39m validate_model(__pydantic_self__\u001b[39m.\u001b[39m\u001b[39m__class__\u001b[39m, data)\n\u001b[1;32m    340\u001b[0m \u001b[39mif\u001b[39;00m validation_error:\n\u001b[0;32m--> 341\u001b[0m     \u001b[39mraise\u001b[39;00m validation_error\n\u001b[1;32m    342\u001b[0m \u001b[39mtry\u001b[39;00m:\n\u001b[1;32m    343\u001b[0m     object_setattr(__pydantic_self__, \u001b[39m'\u001b[39m\u001b[39m__dict__\u001b[39m\u001b[39m'\u001b[39m, values)\n",
      "\u001b[0;31mValidationError\u001b[0m: 1 validation error for SerpAPIWrapper\n__root__\n  Could not import serpapi python package. Please install it with `pip install google-search-results`. (type=value_error)"
     ]
    },
    {
     "name": "stdout",
     "output_type": "stream",
     "text": [
      "ClearML Monitor: GPU monitoring failed getting GPU reading, switching off GPU monitoring\n",
      "ClearML Monitor: Could not detect iteration reporting, falling back to iterations as seconds-from-start\n"
     ]
    }
   ],
   "source": [
    "\n",
    "from langchain.agents import initialize_agent, load_tools\n",
    "from langchain.agents import AgentType\n",
    "\n",
    "# SCENARIO 2 - Agent with Tools\n",
    "tools = load_tools([\"serpapi\", \"llm-math\"], llm=llm, callbacks=callbacks)\n",
    "agent = initialize_agent(\n",
    "    tools,\n",
    "    llm,\n",
    "    agent=AgentType.ZERO_SHOT_REACT_DESCRIPTION,\n",
    "    callbacks=callbacks,\n",
    ")\n",
    "agent.run(\"Who is the wife of the person who sang summer of 69?\")\n",
    "clearml_callback.flush_tracker(\n",
    "    langchain_asset=agent, name=\"Agent with Tools\", finish=True\n",
    ")"
   ]
  }
 ],
 "metadata": {
  "kernelspec": {
   "display_name": "capstone-wLAVGjDG",
   "language": "python",
   "name": "python3"
  },
  "language_info": {
   "codemirror_mode": {
    "name": "ipython",
    "version": 3
   },
   "file_extension": ".py",
   "mimetype": "text/x-python",
   "name": "python",
   "nbconvert_exporter": "python",
   "pygments_lexer": "ipython3",
   "version": "3.11.5"
  }
 },
 "nbformat": 4,
 "nbformat_minor": 2
}
